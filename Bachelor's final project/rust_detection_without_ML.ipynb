{
 "cells": [
  {
   "cell_type": "code",
   "execution_count": 21,
   "metadata": {},
   "outputs": [],
   "source": [
    "import cv2\n",
    "import numpy as np\n",
    "img=cv2.imread('D:/A/final sem project/rust images/443b4b713e0b0d73a602a9dc8bfeb2f3.jpg')\n",
    "hsv=cv2.cvtColor(img,cv2.COLOR_BGR2HSV)\n",
    "lower_red=np.array([40,0,0])\n",
    "upper_red=np.array([180,190,255])\n",
    "mask=cv2.inRange(hsv,lower_red,upper_red)\n",
    "res=cv2.bitwise_and(img,img,mask=mask)\n",
    "\n",
    "\n",
    "#morphological tranformation\n",
    "kernel=np.ones((5,5),np.uint8)\n",
    "erosion=cv2.erode(mask,kernel,iterations=1)\n",
    "dilation=cv2.dilate(mask,kernel,iterations=1)\n",
    "\n",
    "#opening and closing\n",
    "opening=cv2.morphologyEx(mask,cv2.MORPH_OPEN,kernel) \n",
    "closing=cv2.morphologyEx(mask,cv2.MORPH_CLOSE,kernel)\n",
    "#cv2.imshow('opening',opening)\n",
    "\n",
    "\n",
    "#surf = cv2.xfeatures2d.SURF_create(400)\n",
    "#kp, des = surf.detectAndCompute(closing,None)\n",
    "#img2 = cv2.drawKeypoints(img,kp,None,(0,255,0),4)\n",
    "#cv2.imshow('rust',img2)\n",
    "\n",
    "\n",
    "cv2.waitKey(0)\n",
    "cv2.destroyAllWindows()\n"
   ]
  },
  {
   "cell_type": "code",
   "execution_count": 30,
   "metadata": {},
   "outputs": [
    {
     "data": {
      "image/png": "[encoded data removed]",
      "text/plain": [
       "<Figure size 432x288 with 1 Axes>"
      ]
     },
     "metadata": {},
     "output_type": "display_data"
    }
   ],
   "source": [
    "from matplotlib import pyplot as plt \n",
    "plt.hist(closing.ravel(),256,[0,256]); plt.show()"
   ]
  },
  {
   "cell_type": "code",
   "execution_count": 8,
   "metadata": {},
   "outputs": [],
   "source": [
    "import cv2\n",
    "import numpy as np\n",
    "image=cv2.imread('C:/Users/Krishna/Pictures/squats.jpg')"
   ]
  },
  {
   "cell_type": "code",
   "execution_count": 14,
   "metadata": {},
   "outputs": [],
   "source": []
  },
  {
   "cell_type": "code",
   "execution_count": 13,
   "metadata": {},
   "outputs": [],
   "source": [
    "import cv2\n",
    "import numpy as np\n",
    "img=cv2.imread('D:/A/final sem project/rust images/34.free-rust-textures.jpg')\n",
    "hsv=cv2.cvtColor(img,cv2.COLOR_BGR2HSV)\n",
    "lower_red=np.array([40,0,0])\n",
    "upper_red=np.array([180,190,255])\n",
    "mask=cv2.inRange(hsv,lower_red,upper_red)\n",
    "res=cv2.bitwise_and(img,img,mask=mask)\n",
    "cv2.imshow('Rust',res)\n",
    "cv2.waitKey(0)\n",
    "cv2.destroyAllWindows()\n"
   ]
  },
  {
   "cell_type": "code",
   "execution_count": null,
   "metadata": {},
   "outputs": [],
   "source": [
    "\n"
   ]
  },
  {
   "cell_type": "code",
   "execution_count": null,
   "metadata": {},
   "outputs": [],
   "source": []
  },
  {
   "cell_type": "code",
   "execution_count": null,
   "metadata": {},
   "outputs": [],
   "source": []
  }
 ],
 "metadata": {
  "kernelspec": {
   "display_name": "Python 3",
   "language": "python",
   "name": "python3"
  },
  "language_info": {
   "codemirror_mode": {
    "name": "ipython",
    "version": 3
   },
   "file_extension": ".py",
   "mimetype": "text/x-python",
   "name": "python",
   "nbconvert_exporter": "python",
   "pygments_lexer": "ipython3",
   "version": "3.6.5"
  }
 },
 "nbformat": 4,
 "nbformat_minor": 2
}
